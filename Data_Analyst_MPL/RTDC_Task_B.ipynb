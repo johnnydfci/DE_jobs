{
  "nbformat": 4,
  "nbformat_minor": 0,
  "metadata": {
    "colab": {
      "name": "RTDC_Task_B.ipynb",
      "provenance": []
    },
    "kernelspec": {
      "name": "python3",
      "display_name": "Python 3"
    },
    "language_info": {
      "name": "python"
    }
  },
  "cells": [
    {
      "cell_type": "markdown",
      "source": [
        "# RTDC Task B :\n",
        "`Train a deep learning classifier for the detection of red blood cell (RBC) doublets `"
      ],
      "metadata": {
        "id": "tjqQZDMUhY3Q"
      }
    },
    {
      "cell_type": "markdown",
      "source": [
        "### 1.   Manually label images\n",
        "\n",
        "   Say the ratio of normal and doublets is 9:1. We can label 100 images (90 normal, and 10 doublets). \n",
        "\n",
        "### 2.   Data split into train/ tune/ test \n",
        "\n",
        "  The ratio of training: tuning: test set could be 6:2:2. In the training set, positive: negative images could be 1:1, but the tuning and test set should follow the ratio of 9:1. \n",
        "\n",
        "### 3.   Get the region of imaged cells\n",
        "  For each image, find the mask area and crop out the corresponding area in the image. Get a square area whose size could be a little bigger than the imaged cell. \n",
        "\n",
        "### 4.   Image pre-processing\n",
        "\n",
        "  Rescale to [0,1] and reshape to a uniform size (e.g. 224 * 224 or 256 * 256). Data augmentation could be adopted such as translation, rotation, and flipping.\n",
        "\n",
        "###5.   Model fit\n",
        "\n",
        "  One may use DenseNet architecture in Keras for training. Keras has sufficient built-in functions for feature engineering.  Loss function could be 'categorical_crossentropy'. Some techniques such as drop out and early stopping could be deployed to handle. overfitting.\n",
        "\n",
        "###6.   Model infer\n",
        "\n",
        "  Infer the well-trained model on the test set or new images.\n",
        "\n",
        "\n"
      ],
      "metadata": {
        "id": "xTm541NihRzg"
      }
    }
  ]
}